{
 "cells": [
  {
   "cell_type": "code",
   "execution_count": 1,
   "metadata": {},
   "outputs": [],
   "source": [
    "import tensorflow as tf"
   ]
  },
  {
   "cell_type": "code",
   "execution_count": 2,
   "metadata": {},
   "outputs": [],
   "source": [
    "import numpy as np"
   ]
  },
  {
   "cell_type": "code",
   "execution_count": 3,
   "metadata": {},
   "outputs": [],
   "source": [
    "from sklearn import datasets"
   ]
  },
  {
   "cell_type": "code",
   "execution_count": 4,
   "metadata": {},
   "outputs": [],
   "source": [
    "#加载数据集\n",
    "iris = datasets.load_iris()\n",
    "data = iris.data\n",
    "target=iris.target"
   ]
  },
  {
   "cell_type": "code",
   "execution_count": 5,
   "metadata": {},
   "outputs": [],
   "source": [
    "from sklearn.model_selection import train_test_split"
   ]
  },
  {
   "cell_type": "code",
   "execution_count": 6,
   "metadata": {},
   "outputs": [],
   "source": [
    "#将数据集划分为8:2的形式\n",
    "Xtrain,Xtest,Ytrain,Ytest=train_test_split(data,target,test_size=0.2,random_state=1)"
   ]
  },
  {
   "cell_type": "code",
   "execution_count": 9,
   "metadata": {},
   "outputs": [],
   "source": [
    "#设计k近邻模型 训练k近邻模型\n",
    "def knn(k):\n",
    "    with tf.Session() as sess:\n",
    "        testY=[]\n",
    "        for i in range(len(Xtest)):\n",
    "            #计算L1的距离  reduce_sum计算各个维度的总和  tf.abs计算张量的绝对值 tf.add以元素的形式返回和  tf.negative返回元素的负值\n",
    "            #a=[1,3] , b= [2,5]   dis = |1-2|+|3-5|\n",
    "            dis = tf.reduce_sum(tf.abs(tf.add(Xtrain,tf.negative(Xtest[i,:]))),reduction_indices = 1)\n",
    "            #tf.nn.top_k返回没行最大的k个数，取相反数，选择最小k个数的索引\n",
    "            distance = -dis\n",
    "            indices = tf.nn.top_k(distance, k=k).indices\n",
    "            sess.run(distance)\n",
    "            indices=sess.run(indices)\n",
    "            #获取前k个近邻的标签\n",
    "            label=[]\n",
    "            indices=np.array(indices)\n",
    "            for j in range(len(indices)):\n",
    "                label.append(Ytrain[indices[j]])\n",
    "            #通过bincount计算每一行元素出现最多的元素 为测试集的标签\n",
    "            testY.append(np.argmax(np.bincount(label)))\n",
    "    return testY"
   ]
  },
  {
   "cell_type": "code",
   "execution_count": 20,
   "metadata": {},
   "outputs": [],
   "source": [
    "testY_ = knn(3)"
   ]
  },
  {
   "cell_type": "code",
   "execution_count": 16,
   "metadata": {},
   "outputs": [],
   "source": [
    "#正确率的计算\n",
    "def verfiy(Ytest,testY_):\n",
    "    accuracy = 0\n",
    "    for i in range(len(Xtest)):\n",
    "        if testY_[i] == Ytest[i]:\n",
    "            accuracy = accuracy+1\n",
    "    acc = accuracy/len(Xtest)\n",
    "    return acc"
   ]
  },
  {
   "cell_type": "code",
   "execution_count": 17,
   "metadata": {},
   "outputs": [
    {
     "data": {
      "text/plain": [
       "1.0"
      ]
     },
     "execution_count": 17,
     "metadata": {},
     "output_type": "execute_result"
    }
   ],
   "source": [
    "verfiy(Ytest,testY_)"
   ]
  },
  {
   "cell_type": "code",
   "execution_count": 26,
   "metadata": {},
   "outputs": [
    {
     "name": "stdout",
     "output_type": "stream",
     "text": [
      "if k = 1 Prediction: [0, 1, 1, 0, 2, 1, 2, 0, 0, 2, 1, 0, 2, 1, 1, 0, 1, 1, 0, 0, 1, 1, 1, 0, 2, 1, 0, 0, 1, 2] The accuracy: 1.0\n",
      "if k = 2 Prediction: [0, 1, 1, 0, 2, 1, 2, 0, 0, 2, 1, 0, 2, 1, 1, 0, 1, 1, 0, 0, 1, 1, 1, 0, 2, 1, 0, 0, 1, 1] The accuracy: 0.9666666666666667\n",
      "if k = 3 Prediction: [0, 1, 1, 0, 2, 1, 2, 0, 0, 2, 1, 0, 2, 1, 1, 0, 1, 1, 0, 0, 1, 1, 1, 0, 2, 1, 0, 0, 1, 2] The accuracy: 1.0\n",
      "if k = 4 Prediction: [0, 1, 1, 0, 2, 1, 2, 0, 0, 2, 1, 0, 2, 1, 1, 0, 1, 1, 0, 0, 1, 1, 1, 0, 2, 1, 0, 0, 1, 2] The accuracy: 1.0\n",
      "if k = 5 Prediction: [0, 1, 1, 0, 2, 1, 2, 0, 0, 2, 1, 0, 2, 1, 1, 0, 1, 1, 0, 0, 1, 1, 2, 0, 2, 1, 0, 0, 1, 2] The accuracy: 0.9666666666666667\n",
      "if k = 6 Prediction: [0, 1, 1, 0, 2, 1, 2, 0, 0, 2, 1, 0, 2, 1, 1, 0, 1, 1, 0, 0, 1, 1, 1, 0, 2, 1, 0, 0, 1, 2] The accuracy: 1.0\n",
      "if k = 7 Prediction: [0, 1, 1, 0, 2, 1, 2, 0, 0, 2, 1, 0, 2, 1, 1, 0, 1, 1, 0, 0, 1, 1, 2, 0, 2, 1, 0, 0, 1, 2] The accuracy: 0.9666666666666667\n",
      "if k = 8 Prediction: [0, 1, 1, 0, 2, 1, 2, 0, 0, 2, 1, 0, 2, 1, 1, 0, 1, 1, 0, 0, 1, 1, 2, 0, 2, 1, 0, 0, 1, 2] The accuracy: 0.9666666666666667\n",
      "if k = 9 Prediction: [0, 1, 1, 0, 2, 1, 2, 0, 0, 2, 1, 0, 2, 1, 1, 0, 1, 1, 0, 0, 1, 1, 2, 0, 2, 1, 0, 0, 1, 2] The accuracy: 0.9666666666666667\n",
      "if k = 10 Prediction: [0, 1, 1, 0, 2, 1, 2, 0, 0, 2, 1, 0, 2, 1, 1, 0, 1, 1, 0, 0, 1, 1, 2, 0, 2, 1, 0, 0, 1, 2] The accuracy: 0.9666666666666667\n",
      "if k = 11 Prediction: [0, 1, 1, 0, 2, 1, 2, 0, 0, 2, 1, 0, 2, 1, 1, 0, 1, 1, 0, 0, 1, 1, 2, 0, 2, 1, 0, 0, 1, 2] The accuracy: 0.9666666666666667\n",
      "if k = 12 Prediction: [0, 1, 1, 0, 2, 1, 2, 0, 0, 2, 1, 0, 2, 1, 1, 0, 1, 1, 0, 0, 1, 1, 2, 0, 2, 1, 0, 0, 1, 2] The accuracy: 0.9666666666666667\n",
      "if k = 13 Prediction: [0, 1, 1, 0, 2, 1, 2, 0, 0, 2, 1, 0, 2, 1, 1, 0, 1, 1, 0, 0, 1, 1, 2, 0, 2, 1, 0, 0, 1, 2] The accuracy: 0.9666666666666667\n",
      "if k = 14 Prediction: [0, 1, 1, 0, 2, 1, 2, 0, 0, 2, 1, 0, 2, 1, 1, 0, 1, 1, 0, 0, 1, 1, 2, 0, 2, 1, 0, 0, 1, 2] The accuracy: 0.9666666666666667\n"
     ]
    }
   ],
   "source": [
    "##k的取值对测试集的正确率的影响\n",
    "for i in range(1,15):\n",
    "    testY_ = knn(i)\n",
    "    acc = verfiy(Ytest,testY_)\n",
    "    print(\"if k =\", i, \"Prediction:\", testY_, \\\n",
    "            \"The accuracy:\",acc)"
   ]
  },
  {
   "cell_type": "code",
   "execution_count": null,
   "metadata": {},
   "outputs": [],
   "source": []
  },
  {
   "cell_type": "code",
   "execution_count": null,
   "metadata": {},
   "outputs": [],
   "source": []
  }
 ],
 "metadata": {
  "kernelspec": {
   "display_name": "Python 3",
   "language": "python",
   "name": "python3"
  },
  "language_info": {
   "codemirror_mode": {
    "name": "ipython",
    "version": 3
   },
   "file_extension": ".py",
   "mimetype": "text/x-python",
   "name": "python",
   "nbconvert_exporter": "python",
   "pygments_lexer": "ipython3",
   "version": "3.6.4"
  }
 },
 "nbformat": 4,
 "nbformat_minor": 2
}
