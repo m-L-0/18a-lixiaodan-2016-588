{
 "cells": [
  {
   "cell_type": "code",
   "execution_count": 1,
   "metadata": {},
   "outputs": [],
   "source": [
    "from sklearn import datasets\n",
    "import numpy as np\n",
    "from sklearn.cluster import KMeans\n",
    "import matplotlib.pyplot as plt"
   ]
  },
  {
   "cell_type": "code",
   "execution_count": 2,
   "metadata": {},
   "outputs": [],
   "source": [
    "#加载数据集\n",
    "iris = datasets.load_iris()\n",
    "data = np.array(iris.data)\n",
    "target=iris.target"
   ]
  },
  {
   "cell_type": "code",
   "execution_count": 3,
   "metadata": {},
   "outputs": [
    {
     "data": {
      "image/png": "[encoded data removed]",
      "text/plain": [
       "<matplotlib.figure.Figure at 0x1e6afb21a58>"
      ]
     },
     "metadata": {},
     "output_type": "display_data"
    }
   ],
   "source": [
    "X = [x[2] for x in data]  \n",
    "Y = [x[3] for x in data]  \n",
    "\n",
    "#plt.scatter(X, Y, c=iris.target, marker='x')\n",
    "plt.scatter(X[:50], Y[:50], color='red', marker='o', label='setosa') #前50个样本\n",
    "plt.scatter(X[50:100], Y[50:100], color='blue', marker='x', label='versicolor') #中间50个\n",
    "plt.scatter(X[100:], Y[100:],color='green', marker='+', label='Virginica') #后50个样本\n",
    "plt.legend(loc=2) #左上角\n",
    "plt.show()"
   ]
  },
  {
   "cell_type": "code",
   "execution_count": 4,
   "metadata": {},
   "outputs": [],
   "source": [
    "# def distance(p1,p2):  # 欧式距离\n",
    "#     return  np.linalg.norm(p1-p2)\n",
    "#高斯核函数得出邻接矩阵\n",
    "def gaussian_kernel(data,sigma = 1):\n",
    "\n",
    "    kernel = np.zeros([150,150])\n",
    "    s = 2*(sigma**2)\n",
    "    for i in range(0,150):\n",
    "        for j in range(0,150):\n",
    "            for l in range(4):\n",
    "                mol = np.sum(((data[i][l]-data[j][l])**2))\n",
    "            kernel[i,j] = np.exp(-(mol) / s)\n",
    "    return kernel"
   ]
  },
  {
   "cell_type": "code",
   "execution_count": 5,
   "metadata": {},
   "outputs": [],
   "source": [
    "GW = gaussian_kernel(data)"
   ]
  },
  {
   "cell_type": "code",
   "execution_count": 7,
   "metadata": {},
   "outputs": [],
   "source": [
    "def width(lst):\n",
    "    i=0\n",
    "    for j in lst[0]:\n",
    "        i=i+1\n",
    "    return i"
   ]
  },
  {
   "cell_type": "code",
   "execution_count": 8,
   "metadata": {},
   "outputs": [],
   "source": [
    "def JHW(W,r):\n",
    "    for i in range(width(W)):\n",
    "        for j in range(width(W)):\n",
    "            if W[i][j]<r:\n",
    "                W[i][j]=0\n",
    "            else:\n",
    "                W[i][j]=1\n",
    "    return W"
   ]
  },
  {
   "cell_type": "code",
   "execution_count": 9,
   "metadata": {},
   "outputs": [],
   "source": [
    "W = JHW(GW,0.89)"
   ]
  },
  {
   "cell_type": "code",
   "execution_count": 10,
   "metadata": {},
   "outputs": [],
   "source": [
    "#得出度数矩阵\n",
    "def getD(W):    # 获得度矩阵\n",
    "    points_num = len(W)\n",
    "    D = np.diag(np.zeros(points_num))\n",
    "    for i in range(points_num):\n",
    "        D[i][i] = sum(W[i])\n",
    "    return D"
   ]
  },
  {
   "cell_type": "code",
   "execution_count": 11,
   "metadata": {},
   "outputs": [
    {
     "data": {
      "text/plain": [
       "array([[50.,  0.,  0., ...,  0.,  0.,  0.],\n",
       "       [ 0., 50.,  0., ...,  0.,  0.,  0.],\n",
       "       [ 0.,  0., 50., ...,  0.,  0.,  0.],\n",
       "       ...,\n",
       "       [ 0.,  0.,  0., ..., 49.,  0.,  0.],\n",
       "       [ 0.,  0.,  0., ...,  0., 34.,  0.],\n",
       "       [ 0.,  0.,  0., ...,  0.,  0., 58.]])"
      ]
     },
     "execution_count": 11,
     "metadata": {},
     "output_type": "execute_result"
    }
   ],
   "source": [
    "D = getD(W)\n",
    "D"
   ]
  },
  {
   "cell_type": "code",
   "execution_count": 12,
   "metadata": {},
   "outputs": [],
   "source": [
    "#归一化拉普拉斯矩阵\n",
    "def AutoNorm(mat):   \n",
    "    n=len(mat)\n",
    "    m=width(mat)     \n",
    "    MinNum=[9999999999]*m\n",
    "    MaxNum = [0]*m    \n",
    "    for i in mat:\n",
    "        for j in range(0,m):\n",
    "            if i[j]>MaxNum[j]:\n",
    "                MaxNum[j]=i[j]\n",
    "      \n",
    "    for p in mat:     \n",
    "        for q in range(0,m):\n",
    "            if p[q]<=MinNum[q]:\n",
    "                    MinNum[q]=p[q]  \n",
    "                          \n",
    "    section=list(map(lambda x: x[0]-x[1], zip(MaxNum, MinNum)))\n",
    "    NormMat=[]\n",
    "     \n",
    "    for k in mat:\n",
    "        distance=list(map(lambda x: x[0]-x[1], zip(k, MinNum)))\n",
    "        value=list(map(lambda x: x[0]/x[1], zip(distance,section)))\n",
    "        NormMat.append(value)           \n",
    "    return NormMat   "
   ]
  },
  {
   "cell_type": "code",
   "execution_count": 14,
   "metadata": {
    "scrolled": true
   },
   "outputs": [],
   "source": [
    "##拉普拉斯矩阵非对称的归一化后为GL\n",
    "L = D - W\n",
    "GL = np.array(AutoNorm(L))"
   ]
  },
  {
   "cell_type": "code",
   "execution_count": 15,
   "metadata": {},
   "outputs": [],
   "source": [
    "#从拉普拉斯矩阵获得特征矩阵\n",
    "def getEigVec(L,cluster_num):  \n",
    "    eigval,eigvec = np.linalg.eig(L)\n",
    "#     dim = len(eigval)\n",
    "#     dictEigval = dict(zip(eigval,range(0,dim)))\n",
    "#     kEig = np.sort(eigval)[0:cluster_num]\n",
    "#     ix = [dictEigval[k] for k in kEig]\n",
    "    return eigval,eigvec"
   ]
  },
  {
   "cell_type": "code",
   "execution_count": 16,
   "metadata": {},
   "outputs": [],
   "source": [
    "#得到特征值特征向量\n",
    "cluster_num = 150\n",
    "eigval,eigvec = getEigVec(GL,cluster_num)"
   ]
  },
  {
   "cell_type": "code",
   "execution_count": 19,
   "metadata": {},
   "outputs": [],
   "source": [
    "# 特征值对应的索引从小到大排列，argsort函数\n",
    "indices = np.argsort(eigval)"
   ]
  },
  {
   "cell_type": "code",
   "execution_count": 20,
   "metadata": {},
   "outputs": [],
   "source": [
    "#选取前k个特征值对应的特征向量组成矩阵\n",
    "topk_evecs = eigvec[:,indices[:3:1]]\n",
    "U = topk_evecs"
   ]
  },
  {
   "cell_type": "code",
   "execution_count": 21,
   "metadata": {},
   "outputs": [],
   "source": [
    "#对U进行归一化，得到矩阵Y\n",
    "Y = np.array(AutoNorm(U))"
   ]
  },
  {
   "cell_type": "code",
   "execution_count": 38,
   "metadata": {
    "scrolled": true
   },
   "outputs": [
    {
     "name": "stderr",
     "output_type": "stream",
     "text": [
      "D:\\ProgramData\\Anaconda3\\lib\\site-packages\\sklearn\\utils\\validation.py:433: ComplexWarning: Casting complex values to real discards the imaginary part\n",
      "  array = np.array(array, dtype=dtype, order=order, copy=copy)\n"
     ]
    },
    {
     "data": {
      "text/plain": [
       "array([0, 0, 0, 0, 0, 0, 0, 0, 0, 0, 0, 0, 0, 0, 0, 0, 0, 0, 0, 0, 0, 0,\n",
       "       0, 0, 0, 0, 0, 0, 0, 0, 0, 0, 0, 0, 0, 0, 0, 0, 0, 0, 0, 0, 0, 0,\n",
       "       0, 0, 0, 0, 0, 0, 1, 1, 1, 1, 1, 1, 1, 1, 1, 1, 1, 1, 1, 1, 1, 1,\n",
       "       1, 1, 1, 1, 2, 1, 1, 1, 1, 1, 1, 2, 1, 1, 1, 1, 1, 1, 1, 1, 1, 1,\n",
       "       1, 1, 1, 1, 1, 1, 1, 1, 1, 1, 1, 1, 2, 2, 2, 2, 2, 2, 2, 2, 2, 2,\n",
       "       2, 2, 2, 2, 2, 2, 2, 2, 2, 1, 2, 2, 2, 2, 2, 2, 2, 2, 2, 1, 2, 2,\n",
       "       2, 1, 1, 2, 2, 2, 2, 2, 2, 2, 2, 2, 2, 2, 2, 2, 2, 2])"
      ]
     },
     "execution_count": 38,
     "metadata": {},
     "output_type": "execute_result"
    }
   ],
   "source": [
    "estimator = KMeans(n_clusters=3)#构造聚类器\n",
    "estimator.fit(Y)#聚类\n",
    "label_pred = estimator.labels_ #获取聚类标签\n",
    "label_pred"
   ]
  },
  {
   "cell_type": "code",
   "execution_count": 39,
   "metadata": {},
   "outputs": [
    {
     "data": {
      "text/plain": [
       "0.96"
      ]
     },
     "execution_count": 39,
     "metadata": {},
     "output_type": "execute_result"
    }
   ],
   "source": [
    "from sklearn.metrics import accuracy_score\n",
    "accuracy_score(label_pred,target)"
   ]
  },
  {
   "cell_type": "code",
   "execution_count": 40,
   "metadata": {
    "collapsed": true
   },
   "outputs": [
    {
     "data": {
      "image/png": "[encoded data removed]",
      "text/plain": [
       "<matplotlib.figure.Figure at 0x1e6afbec0f0>"
      ]
     },
     "metadata": {},
     "output_type": "display_data"
    }
   ],
   "source": [
    "import networkx as nx \n",
    "\n",
    "G=nx.Graph()\n",
    "#创建150个结点\n",
    "for i in range(150):\n",
    "    G.add_node(i)\n",
    "#将邻接矩阵有连接的保存在edglist中\n",
    "edglist=[]\n",
    "for i in range(150):\n",
    "    for j in range(150):\n",
    "        if(W[i][j]==1):\n",
    "            edglist.append((i,j))\n",
    "colorlist=[]\n",
    "for i in range(150):\n",
    "    if(label_pred[i]==0):\n",
    "        colorlist.append('r')\n",
    "    elif(label_pred[i]==1):\n",
    "        colorlist.append('b')\n",
    "    else:\n",
    "        colorlist.append('g')\n",
    "G=nx.Graph(edglist)\n",
    "nx.draw(G,node_color = colorlist,node_size =15)\n",
    "plt.show()"
   ]
  }
 ],
 "metadata": {
  "kernelspec": {
   "display_name": "Python 3",
   "language": "python",
   "name": "python3"
  },
  "language_info": {
   "codemirror_mode": {
    "name": "ipython",
    "version": 3
   },
   "file_extension": ".py",
   "mimetype": "text/x-python",
   "name": "python",
   "nbconvert_exporter": "python",
   "pygments_lexer": "ipython3",
   "version": "3.5.2"
  }
 },
 "nbformat": 4,
 "nbformat_minor": 2
}
