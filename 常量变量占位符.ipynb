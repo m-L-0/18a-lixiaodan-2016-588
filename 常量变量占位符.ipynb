{
 "cells": [
  {
   "cell_type": "code",
   "execution_count": 2,
   "metadata": {},
   "outputs": [],
   "source": [
    "import tensorflow as tf\n",
    "import numpy as np"
   ]
  },
  {
   "cell_type": "code",
   "execution_count": null,
   "metadata": {},
   "outputs": [],
   "source": [
    "#定义输入变量\n",
    "x = tf.placeholder(dtype=tf.float32)\n",
    "#定义输出变量\n",
    "y = tf.placeholder(dtype=tf.float32)"
   ]
  },
  {
   "cell_type": "code",
   "execution_count": null,
   "metadata": {},
   "outputs": [],
   "source": [
    "#定义权重\n",
    "rng = np.random\n",
    "W = tf.Variable(rng.randn(),name=\"weight\")\n",
    "#定义偏置\n",
    "b = tf.Variable(rng.randn(),name=\"bias\")\n",
    "#计算预测值\n",
    "prediction = tf.add(tf.multiply(X,W),b)"
   ]
  },
  {
   "cell_type": "code",
   "execution_count": null,
   "metadata": {},
   "outputs": [],
   "source": [
    "#s损失函数\n",
    "loss = 0.5 * tf.reduce_sum(tf.pow(prediction-Y,2)) / n_samples"
   ]
  }
 ],
 "metadata": {
  "kernelspec": {
   "display_name": "Python 3",
   "language": "python",
   "name": "python3"
  },
  "language_info": {
   "codemirror_mode": {
    "name": "ipython",
    "version": 3
   },
   "file_extension": ".py",
   "mimetype": "text/x-python",
   "name": "python",
   "nbconvert_exporter": "python",
   "pygments_lexer": "ipython3",
   "version": "3.5.2"
  }
 },
 "nbformat": 4,
 "nbformat_minor": 2
}
