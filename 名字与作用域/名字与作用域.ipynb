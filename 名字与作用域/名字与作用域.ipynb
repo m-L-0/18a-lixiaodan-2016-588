{
 "cells": [
  {
   "cell_type": "code",
   "execution_count": null,
   "metadata": {},
   "outputs": [],
   "source": [
    "（1）name_scope可以为其作用域中的节点的name添加一个或多个前缀，并使用这些前缀作为划分内部与外部op范围的标记。\n",
    "（2）variable_scope主要用于管理变量作用域以及与变量相关的操作，同时variable_scope也可以像name_scope一样用来给不同操作区域划分范围（添加name前缀）。\n",
    "variable_scope功能也要更丰富，最重要的是可以与tf.get_variable()等配合使用完成对变量的重复使用。\n",
    "（3）\n",
    "相同：\n",
    "都可以用来给不同操作区域划分范围，默认的variable_scope的nam等于其对应的name_scope的name，但并不总是这样。\n",
    "不同：\n",
    "name_scope不能与tf.get_variable()配合使用，而variable_scope可以\n",
    "variable_scope主要用于管理变量作用域以及与变量相关的操作"
   ]
  },
  {
   "cell_type": "code",
   "execution_count": null,
   "metadata": {},
   "outputs": [],
   "source": []
  }
 ],
 "metadata": {
  "kernelspec": {
   "display_name": "Python 3",
   "language": "python",
   "name": "python3"
  },
  "language_info": {
   "codemirror_mode": {
    "name": "ipython",
    "version": 3
   },
   "file_extension": ".py",
   "mimetype": "text/x-python",
   "name": "python",
   "nbconvert_exporter": "python",
   "pygments_lexer": "ipython3",
   "version": "3.5.2"
  }
 },
 "nbformat": 4,
 "nbformat_minor": 2
}
