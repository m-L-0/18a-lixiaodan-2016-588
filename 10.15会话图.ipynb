{
 "cells": [
  {
   "cell_type": "code",
   "execution_count": 2,
   "metadata": {},
   "outputs": [
    {
     "name": "stdout",
     "output_type": "stream",
     "text": [
      "4950\n"
     ]
    }
   ],
   "source": [
    "import tensorflow as tf\n",
    "with tf.Graph().as_default() as g:\n",
    "    tmp=tf.constant(1)\n",
    "    \n",
    "    for i in range(2,100):  ##使用for循环创建了太多的图结构\n",
    "        tmp=tf.add(tmp,i)\n",
    "        \n",
    "with tf.Session(graph=g) as sess:\n",
    "    print(sess.run(tmp))\n",
    "    "
   ]
  },
  {
   "cell_type": "code",
   "execution_count": 3,
   "metadata": {},
   "outputs": [
    {
     "name": "stdout",
     "output_type": "stream",
     "text": [
      "9\n",
      "9\n"
     ]
    }
   ],
   "source": [
    "###创建一张图，并且在两个不同的会话中执行图\n",
    "a = tf.add(3,6)\n",
    "with tf.Session() as sess:\n",
    "    print(sess.run(a))\n",
    "\n",
    "\n",
    "sess=tf.InteractiveSession()\n",
    "print(a.eval())\n",
    "sess.close()\n"
   ]
  },
  {
   "cell_type": "code",
   "execution_count": 8,
   "metadata": {},
   "outputs": [
    {
     "name": "stdout",
     "output_type": "stream",
     "text": [
      "9\n",
      "-3\n",
      "18\n"
     ]
    }
   ],
   "source": [
    "#加法操作\n",
    "a = tf.add(3,6)\n",
    "with tf.Session() as sess:\n",
    "    print(sess.run(a))\n",
    "\n",
    "#减法操作\n",
    "b = tf.subtract(3,6)\n",
    "with tf.Session() as sess:\n",
    "    print(sess.run(b))\n",
    "\n",
    "#乘法操作\n",
    "c=tf.multiply(3,6)\n",
    "with tf.Session() as sess:\n",
    "    print(sess.run(c))\n",
    "\n"
   ]
  },
  {
   "cell_type": "code",
   "execution_count": 29,
   "metadata": {},
   "outputs": [
    {
     "name": "stdout",
     "output_type": "stream",
     "text": [
      "6\n"
     ]
    }
   ],
   "source": [
    "#除法操作\n",
    "d=tf.div(6,1)\n",
    "with tf.Session() as sess:\n",
    "    print(sess.run(d))\n",
    "    \n"
   ]
  },
  {
   "cell_type": "code",
   "execution_count": 11,
   "metadata": {},
   "outputs": [
    {
     "name": "stdout",
     "output_type": "stream",
     "text": [
      "0\n"
     ]
    }
   ],
   "source": [
    "e=tf.mod(6,6)  #取余数\n",
    "with tf.Session() as sess:\n",
    "    print(e.eval())\n",
    "    "
   ]
  },
  {
   "cell_type": "code",
   "execution_count": 17,
   "metadata": {},
   "outputs": [
    {
     "name": "stdout",
     "output_type": "stream",
     "text": [
      "46656\n"
     ]
    }
   ],
   "source": [
    "f=tf.pow(6,3)  #6的几幂次方 \n",
    "with tf.Session() as sess:\n",
    "    print(f.eval())"
   ]
  },
  {
   "cell_type": "code",
   "execution_count": 19,
   "metadata": {},
   "outputs": [
    {
     "name": "stdout",
     "output_type": "stream",
     "text": [
      "36\n"
     ]
    }
   ],
   "source": [
    "g=tf.square(6)   #求平方时只有一个参数\n",
    "with tf.Session() as sess:\n",
    "    print(g.eval())"
   ]
  },
  {
   "cell_type": "code",
   "execution_count": 21,
   "metadata": {},
   "outputs": [
    {
     "name": "stdout",
     "output_type": "stream",
     "text": [
      "3.0\n"
     ]
    }
   ],
   "source": [
    "h=tf.sqrt(9.0)  #开平方时应是浮点数\n",
    "with tf.Session() as sess:\n",
    "    print(h.eval())\n",
    "    "
   ]
  },
  {
   "cell_type": "code",
   "execution_count": 30,
   "metadata": {},
   "outputs": [],
   "source": [
    "##设计一个函数，实现根据输入张量输出shape完全一样元素为1的张量\n",
    "def ones_like(inputs):\n",
    "    return tf.ones(shape=inputs.shape)\n",
    "    #return tf.ones(shape=tf.shape(inputs))"
   ]
  },
  {
   "cell_type": "code",
   "execution_count": 33,
   "metadata": {},
   "outputs": [
    {
     "name": "stdout",
     "output_type": "stream",
     "text": [
      "[[1. 1. 1.]\n",
      " [1. 1. 1.]]\n"
     ]
    }
   ],
   "source": [
    "a=tf.constant([[1,2,3],[6,7,8]])\n",
    "\n",
    "sess_a=ones_like(a)\n",
    "\n",
    "with tf.Session() as sess:\n",
    "    print(sess.run(sess_a))"
   ]
  },
  {
   "cell_type": "code",
   "execution_count": 34,
   "metadata": {},
   "outputs": [],
   "source": [
    "###课上练习\n",
    "a=tf.constant([[1.0,2.0,3.0],[4.0,5.0,6.0]],name='a')\n",
    "b=tf.constant([[1.0,2.0],[3.0,4.0],[5.0,6.0]],name='b')\n",
    "c=tf.matmul(a,b)\n",
    "\n",
    "g=tf.get_default_graph()\n",
    "with g.control_dependencies([c]):\n",
    "    d=tf.constant([[1.0,2.0,3.0],[4.0,5.0,6.0]],name='d')\n",
    "    e=tf.constant([[1.0,2.0],[3.0,4.0],[5.0,6.0]],name='b')\n",
    "    f=tf.matmul(d,e)\n",
    "with tf.Session() as sess:\n",
    "    sess.run(f)\n"
   ]
  },
  {
   "cell_type": "code",
   "execution_count": 35,
   "metadata": {},
   "outputs": [
    {
     "data": {
      "text/plain": [
       "<tf.Tensor 'Rank:0' shape=() dtype=int32>"
      ]
     },
     "execution_count": 35,
     "metadata": {},
     "output_type": "execute_result"
    }
   ],
   "source": [
    "a=tf.constant([[1.0,2.0,3.0],[4.0,5.0,6.0]])\n",
    "tf.rank(a)\n"
   ]
  },
  {
   "cell_type": "code",
   "execution_count": 36,
   "metadata": {},
   "outputs": [
    {
     "data": {
      "text/plain": [
       "<tf.Tensor 'Shape:0' shape=(2,) dtype=int32>"
      ]
     },
     "execution_count": 36,
     "metadata": {},
     "output_type": "execute_result"
    }
   ],
   "source": [
    "tf.shape(a)"
   ]
  },
  {
   "cell_type": "code",
   "execution_count": 37,
   "metadata": {},
   "outputs": [
    {
     "data": {
      "text/plain": [
       "<tf.Tensor 'Shape_1:0' shape=(1,) dtype=int32>"
      ]
     },
     "execution_count": 37,
     "metadata": {},
     "output_type": "execute_result"
    }
   ],
   "source": [
    "##小练习\n",
    "a=tf.constant([])\n",
    "tf.shape(a)"
   ]
  },
  {
   "cell_type": "code",
   "execution_count": 38,
   "metadata": {},
   "outputs": [
    {
     "data": {
      "text/plain": [
       "<tf.Tensor 'Shape_2:0' shape=(0,) dtype=int32>"
      ]
     },
     "execution_count": 38,
     "metadata": {},
     "output_type": "execute_result"
    }
   ],
   "source": [
    "b=tf.constant(12)\n",
    "tf.shape(b)"
   ]
  },
  {
   "cell_type": "code",
   "execution_count": 39,
   "metadata": {},
   "outputs": [
    {
     "data": {
      "text/plain": [
       "<tf.Tensor 'Shape_3:0' shape=(2,) dtype=int32>"
      ]
     },
     "execution_count": 39,
     "metadata": {},
     "output_type": "execute_result"
    }
   ],
   "source": [
    "c=tf.constant([[1],[2],[3]])\n",
    "tf.shape(c)"
   ]
  },
  {
   "cell_type": "code",
   "execution_count": null,
   "metadata": {},
   "outputs": [],
   "source": [
    "##拼接\n",
    "import numpy as np\n",
    "a=np.array([[1,2],[3,5],[9,7]])\n",
    "b=np.array([[1,2],[9,7]])\n",
    "c=np.array([[1,2,3],[4,5,6],[7,8,9]])"
   ]
  },
  {
   "cell_type": "code",
   "execution_count": 2,
   "metadata": {},
   "outputs": [
    {
     "name": "stdout",
     "output_type": "stream",
     "text": [
      "Tensor(\"Reshape:0\", shape=(3, 3), dtype=int32)\n"
     ]
    }
   ],
   "source": [
    "import tensorflow as tf\n",
    "t=tf.constant([1,2,3,4,5,6,7,8,9])\n",
    "new_t=tf.reshape(t,[3,3])\n",
    "print(new_t)"
   ]
  },
  {
   "cell_type": "code",
   "execution_count": null,
   "metadata": {},
   "outputs": [],
   "source": []
  }
 ],
 "metadata": {
  "kernelspec": {
   "display_name": "Python 3",
   "language": "python",
   "name": "python3"
  },
  "language_info": {
   "codemirror_mode": {
    "name": "ipython",
    "version": 3
   },
   "file_extension": ".py",
   "mimetype": "text/x-python",
   "name": "python",
   "nbconvert_exporter": "python",
   "pygments_lexer": "ipython3",
   "version": "3.5.2"
  }
 },
 "nbformat": 4,
 "nbformat_minor": 2
}
