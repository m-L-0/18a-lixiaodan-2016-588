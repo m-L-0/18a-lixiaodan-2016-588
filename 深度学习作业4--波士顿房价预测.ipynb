{
 "cells": [
  {
   "cell_type": "code",
   "execution_count": 7,
   "metadata": {},
   "outputs": [],
   "source": [
    "%matplotlib inline\n",
    "import numpy as np\n",
    "import tensorflow as tf\n",
    "\n",
    "from PIL import Image\n",
    "from matplotlib import pyplot as plt"
   ]
  },
  {
   "cell_type": "code",
   "execution_count": 2,
   "metadata": {},
   "outputs": [],
   "source": [
    "(train_data,train_label),(test_data,test_label) = \\\n",
    "    tf.keras.datasets.boston_housing.load_data()"
   ]
  },
  {
   "cell_type": "code",
   "execution_count": 5,
   "metadata": {},
   "outputs": [],
   "source": [
    "with tf.Graph().as_default() as g:\n",
    "    inputs = tf.placeholder(shape=[None,13],dtype=tf.float32)\n",
    "    labels = tf.placeholder(shape=[None,],dtype=tf.float32)\n",
    "    \n",
    "    h1 = tf.keras.layers.Dense(64,activation=tf.nn.relu)(inputs)\n",
    "    h2 = tf.keras.layers.Dense(16,activation=tf.nn.relu)(h1)\n",
    "    output = tf.keras.layers.Dense(1,activation=None)(h2)\n",
    "    \n",
    "    loss = tf.reduce_mean(\n",
    "            tf.keras.losses.mean_squared_error(labels,output))\n",
    "    \n",
    "    optim = tf.train.GradientDescentOptimizer(learning_rate=1e-6)\n",
    "    train_op = optim.minimize(loss)"
   ]
  },
  {
   "cell_type": "code",
   "execution_count": 8,
   "metadata": {
    "collapsed": true
   },
   "outputs": [
    {
     "name": "stdout",
     "output_type": "stream",
     "text": [
      "epoch   0,train loss 183.2567,val loss 592.7036\n",
      "epoch   1,train loss 129.6781,val loss 146.2675\n",
      "epoch   2,train loss 124.5386,val loss 113.6530\n",
      "epoch   3,train loss 137.0158,val loss 106.9253\n",
      "epoch   4,train loss 80.4298,val loss 100.1321\n",
      "epoch   5,train loss 147.7521,val loss 102.7217\n",
      "epoch   6,train loss 98.1497,val loss 99.5424\n",
      "epoch   7,train loss 92.5988,val loss 101.3013\n",
      "epoch   8,train loss 76.8141,val loss 96.6292\n",
      "epoch   9,train loss 79.7729,val loss 97.1792\n",
      "epoch  10,train loss 24.0248,val loss 97.3853\n",
      "epoch  11,train loss 87.2493,val loss 94.0690\n",
      "epoch  12,train loss 105.7246,val loss 99.1716\n",
      "epoch  13,train loss 104.4983,val loss 96.6616\n",
      "epoch  14,train loss 141.6758,val loss 96.6147\n",
      "epoch  15,train loss 102.5627,val loss 93.5854\n",
      "epoch  16,train loss 61.8436,val loss 94.7594\n",
      "epoch  17,train loss 102.8741,val loss 97.2240\n",
      "epoch  18,train loss 101.0247,val loss 93.0051\n",
      "epoch  19,train loss 69.9889,val loss 88.2216\n",
      "epoch  20,train loss 98.8365,val loss 94.3755\n",
      "epoch  21,train loss 119.7564,val loss 94.5579\n",
      "epoch  22,train loss 100.7224,val loss 93.0027\n",
      "epoch  23,train loss 81.6776,val loss 99.2483\n",
      "epoch  24,train loss 101.1859,val loss 87.0364\n",
      "epoch  25,train loss 120.4254,val loss 91.4486\n",
      "epoch  26,train loss 121.0696,val loss 93.5248\n",
      "epoch  27,train loss 117.8420,val loss 89.3417\n",
      "epoch  28,train loss 72.7750,val loss 87.3270\n",
      "epoch  29,train loss 106.7851,val loss 91.3608\n",
      "epoch  30,train loss 59.2725,val loss 91.5675\n",
      "epoch  31,train loss 89.0853,val loss 92.9228\n",
      "epoch  32,train loss 70.6196,val loss 89.9576\n",
      "epoch  33,train loss 68.2287,val loss 91.1556\n",
      "epoch  34,train loss 64.8210,val loss 92.1099\n",
      "epoch  35,train loss 111.3868,val loss 88.4984\n",
      "epoch  36,train loss 92.4344,val loss 90.3035\n",
      "epoch  37,train loss 110.1697,val loss 87.6168\n",
      "epoch  38,train loss 95.6277,val loss 88.2236\n",
      "epoch  39,train loss 70.4302,val loss 90.0029\n",
      "epoch  40,train loss 119.0068,val loss 86.1653\n",
      "epoch  41,train loss 93.5345,val loss 87.4915\n",
      "epoch  42,train loss 94.0145,val loss 91.6078\n",
      "epoch  43,train loss 123.3121,val loss 88.9598\n",
      "epoch  44,train loss 36.5744,val loss 89.9438\n",
      "epoch  45,train loss 73.4603,val loss 91.7003\n",
      "epoch  46,train loss 66.5117,val loss 91.9602\n",
      "epoch  47,train loss 118.5514,val loss 91.1814\n",
      "epoch  48,train loss 92.2840,val loss 83.3097\n",
      "epoch  49,train loss 102.8731,val loss 89.4925\n",
      "epoch  50,train loss 66.6027,val loss 87.4924\n",
      "epoch  51,train loss 76.4044,val loss 90.0190\n",
      "epoch  52,train loss 119.8268,val loss 81.7678\n",
      "epoch  53,train loss 50.7589,val loss 88.5146\n",
      "epoch  54,train loss 119.3050,val loss 90.7153\n",
      "epoch  55,train loss 81.3783,val loss 89.2373\n",
      "epoch  56,train loss 94.0507,val loss 88.6875\n",
      "epoch  57,train loss 72.4855,val loss 89.7856\n",
      "epoch  58,train loss 97.0268,val loss 89.8640\n",
      "epoch  59,train loss 95.9416,val loss 89.6045\n",
      "epoch  60,train loss 86.2409,val loss 91.9873\n",
      "epoch  61,train loss 159.9956,val loss 88.4148\n",
      "epoch  62,train loss 86.4920,val loss 89.5738\n",
      "epoch  63,train loss 77.6993,val loss 92.9104\n",
      "epoch  64,train loss 43.1739,val loss 87.7841\n",
      "epoch  65,train loss 59.3809,val loss 87.0573\n",
      "epoch  66,train loss 125.7914,val loss 88.1267\n",
      "epoch  67,train loss 87.9523,val loss 87.3221\n",
      "epoch  68,train loss 72.1554,val loss 89.9570\n",
      "epoch  69,train loss 105.1365,val loss 88.8428\n",
      "epoch  70,train loss 67.8133,val loss 88.1264\n",
      "epoch  71,train loss 54.7069,val loss 89.8703\n",
      "epoch  72,train loss 59.1800,val loss 87.0530\n",
      "epoch  73,train loss 77.6701,val loss 89.4069\n",
      "epoch  74,train loss 55.5031,val loss 89.8614\n",
      "epoch  75,train loss 79.2857,val loss 89.3226\n",
      "epoch  76,train loss 103.3551,val loss 90.5107\n",
      "epoch  77,train loss 116.3549,val loss 90.5133\n",
      "epoch  78,train loss 90.6535,val loss 90.1325\n",
      "epoch  79,train loss 55.0312,val loss 88.1267\n",
      "epoch  80,train loss 136.9760,val loss 89.3617\n",
      "epoch  81,train loss 39.3571,val loss 84.9614\n",
      "epoch  82,train loss 84.1393,val loss 90.6512\n",
      "epoch  83,train loss 49.3553,val loss 89.5443\n",
      "epoch  84,train loss 49.4556,val loss 87.6326\n",
      "epoch  85,train loss 89.2476,val loss 86.8913\n",
      "epoch  86,train loss 46.3219,val loss 90.2250\n",
      "epoch  87,train loss 60.0052,val loss 88.8165\n",
      "epoch  88,train loss 138.3931,val loss 85.7755\n",
      "epoch  89,train loss 116.4709,val loss 88.4241\n",
      "epoch  90,train loss 70.9614,val loss 91.1712\n",
      "epoch  91,train loss 76.8155,val loss 88.7076\n",
      "epoch  92,train loss 59.7397,val loss 85.1078\n",
      "epoch  93,train loss 114.1678,val loss 90.8304\n",
      "epoch  94,train loss 61.9565,val loss 89.2617\n",
      "epoch  95,train loss 79.8233,val loss 84.1057\n",
      "epoch  96,train loss 136.2568,val loss 91.1572\n",
      "epoch  97,train loss 81.6682,val loss 88.6831\n",
      "epoch  98,train loss 74.9051,val loss 87.5416\n",
      "epoch  99,train loss 122.5983,val loss 88.5946\n",
      "epoch 100,train loss 146.3056,val loss 85.3433\n",
      "epoch 101,train loss 93.2170,val loss 89.3398\n",
      "epoch 102,train loss 108.9510,val loss 87.0256\n",
      "epoch 103,train loss 113.5445,val loss 86.9120\n",
      "epoch 104,train loss 94.1680,val loss 87.1698\n",
      "epoch 105,train loss 97.8104,val loss 86.7565\n",
      "epoch 106,train loss 70.9051,val loss 84.7869\n",
      "epoch 107,train loss 108.1002,val loss 87.0244\n",
      "epoch 108,train loss 103.5368,val loss 86.6332\n",
      "epoch 109,train loss 151.1144,val loss 89.9909\n",
      "epoch 110,train loss 74.3000,val loss 88.7443\n",
      "epoch 111,train loss 125.4128,val loss 89.4184\n",
      "epoch 112,train loss 109.1543,val loss 87.9310\n",
      "epoch 113,train loss 81.3668,val loss 86.6024\n",
      "epoch 114,train loss 85.6356,val loss 86.7380\n",
      "epoch 115,train loss 75.4168,val loss 89.5432\n",
      "epoch 116,train loss 71.4650,val loss 88.3940\n",
      "epoch 117,train loss 103.6064,val loss 89.9951\n",
      "epoch 118,train loss 66.2283,val loss 89.0735\n",
      "epoch 119,train loss 104.3309,val loss 86.8432\n",
      "epoch 120,train loss 106.6860,val loss 89.7592\n",
      "epoch 121,train loss 84.1794,val loss 86.4548\n",
      "epoch 122,train loss 66.7699,val loss 86.1056\n",
      "epoch 123,train loss 70.2332,val loss 89.6013\n",
      "epoch 124,train loss 72.9710,val loss 87.0943\n",
      "epoch 125,train loss 75.5249,val loss 88.1140\n",
      "epoch 126,train loss 69.7737,val loss 89.8047\n",
      "epoch 127,train loss 128.3123,val loss 87.6162\n",
      "epoch 128,train loss 86.0565,val loss 89.5328\n",
      "epoch 129,train loss 37.8263,val loss 87.8158\n",
      "epoch 130,train loss 110.0762,val loss 83.6108\n",
      "epoch 131,train loss 87.4605,val loss 88.7181\n",
      "epoch 132,train loss 104.8910,val loss 84.6856\n",
      "epoch 133,train loss 80.2806,val loss 90.2095\n",
      "epoch 134,train loss 97.4902,val loss 89.1550\n",
      "epoch 135,train loss 81.0723,val loss 89.4456\n",
      "epoch 136,train loss 85.1222,val loss 89.0606\n",
      "epoch 137,train loss 100.0643,val loss 88.4035\n",
      "epoch 138,train loss 64.1882,val loss 91.3064\n",
      "epoch 139,train loss 126.2518,val loss 81.1241\n",
      "epoch 140,train loss 100.8703,val loss 90.9798\n",
      "epoch 141,train loss 122.6424,val loss 88.9129\n",
      "epoch 142,train loss 108.4558,val loss 87.2170\n",
      "epoch 143,train loss 113.2509,val loss 87.0630\n",
      "epoch 144,train loss 92.7960,val loss 88.7297\n",
      "epoch 145,train loss 130.8675,val loss 90.1337\n",
      "epoch 146,train loss 85.4322,val loss 89.5054\n",
      "epoch 147,train loss 60.8110,val loss 86.2604\n",
      "epoch 148,train loss 66.4671,val loss 84.7359\n",
      "epoch 149,train loss 112.6596,val loss 86.9003\n",
      "epoch 150,train loss 62.7214,val loss 86.8076\n",
      "epoch 151,train loss 34.4889,val loss 86.0306\n",
      "epoch 152,train loss 142.6080,val loss 90.9535\n",
      "epoch 153,train loss 69.7399,val loss 87.7105\n",
      "epoch 154,train loss 119.3647,val loss 87.6320\n",
      "epoch 155,train loss 135.5699,val loss 86.6982\n",
      "epoch 156,train loss 70.2186,val loss 85.7161\n",
      "epoch 157,train loss 53.3139,val loss 90.0980\n",
      "epoch 158,train loss 88.8550,val loss 84.3016\n",
      "epoch 159,train loss 63.8977,val loss 88.9410\n",
      "epoch 160,train loss 101.7920,val loss 89.0574\n",
      "epoch 161,train loss 66.5258,val loss 86.4621\n",
      "epoch 162,train loss 91.4790,val loss 90.5764\n",
      "epoch 163,train loss 90.0535,val loss 88.2453\n",
      "epoch 164,train loss 92.4553,val loss 90.8003\n",
      "epoch 165,train loss 91.6550,val loss 85.4344\n",
      "epoch 166,train loss 38.4146,val loss 89.5618\n",
      "epoch 167,train loss 135.7995,val loss 90.1186\n",
      "epoch 168,train loss 52.6633,val loss 87.3829\n",
      "epoch 169,train loss 77.6327,val loss 87.0941\n",
      "epoch 170,train loss 73.3685,val loss 89.3275\n",
      "epoch 171,train loss 65.2634,val loss 86.5390\n",
      "epoch 172,train loss 106.1835,val loss 90.8391\n",
      "epoch 173,train loss 101.5573,val loss 86.8098\n",
      "epoch 174,train loss 50.5750,val loss 86.4993\n",
      "epoch 175,train loss 138.7376,val loss 89.4103\n",
      "epoch 176,train loss 60.9243,val loss 86.3093\n",
      "epoch 177,train loss 91.3772,val loss 90.2582\n",
      "epoch 178,train loss 67.1782,val loss 87.6373\n",
      "epoch 179,train loss 142.8964,val loss 89.6891\n",
      "epoch 180,train loss 100.5552,val loss 89.6546\n",
      "epoch 181,train loss 137.9282,val loss 85.6332\n",
      "epoch 182,train loss 134.2709,val loss 86.8906\n",
      "epoch 183,train loss 72.1302,val loss 90.2030\n",
      "epoch 184,train loss 35.7977,val loss 86.7171\n",
      "epoch 185,train loss 81.5815,val loss 86.0090\n",
      "epoch 186,train loss 86.6469,val loss 88.0216\n",
      "epoch 187,train loss 90.7445,val loss 85.7238\n",
      "epoch 188,train loss 100.8657,val loss 87.6508\n",
      "epoch 189,train loss 104.0699,val loss 88.1062\n",
      "epoch 190,train loss 116.8652,val loss 89.4498\n"
     ]
    },
    {
     "name": "stdout",
     "output_type": "stream",
     "text": [
      "epoch 191,train loss 95.3230,val loss 90.5598\n",
      "epoch 192,train loss 99.1012,val loss 89.9415\n",
      "epoch 193,train loss 128.0671,val loss 88.2394\n",
      "epoch 194,train loss 79.3735,val loss 89.7935\n",
      "epoch 195,train loss 68.1655,val loss 90.7225\n",
      "epoch 196,train loss 86.3792,val loss 87.9441\n",
      "epoch 197,train loss 79.5459,val loss 89.2163\n",
      "epoch 198,train loss 75.1795,val loss 85.7807\n",
      "epoch 199,train loss 132.5902,val loss 88.8765\n"
     ]
    }
   ],
   "source": [
    "with tf.Session(graph=g) as sess:\n",
    "    sess.run(tf.global_variables_initializer())\n",
    "    batch_size=32\n",
    "    for epoch in range(200):\n",
    "        order = np.argsort(np.random.random(train_label.shape))\n",
    "        train_data = train_data[order]\n",
    "        train_label = train_label[order]\n",
    "        \n",
    "        res_train_losses = []\n",
    "        for i in range(train_label.shape[0] // batch_size):\n",
    "            strat = i * batch_size\n",
    "            end = (i+1) * batch_size\n",
    "            res_train_loss,_=sess.run([loss,train_op],\n",
    "                    feed_dict={inputs:train_data[strat:end],\n",
    "                               labels:train_label[strat:end]})\n",
    "            res_train_losses.append(res_train_loss)\n",
    "        \n",
    "        res_val_loss = sess.run(loss,\n",
    "                    feed_dict={inputs:test_data,\n",
    "                              labels:test_label})\n",
    "        print('epoch %3d,train loss %2.4f,val loss %2.4f' %\n",
    "             (epoch,res_train_loss,np.mean(res_train_losses)))"
   ]
  },
  {
   "cell_type": "markdown",
   "metadata": {},
   "source": [
    "==============================================================================================="
   ]
  },
  {
   "cell_type": "markdown",
   "metadata": {},
   "source": [
    "导入Fashion_mnsit数据集,并可视化"
   ]
  },
  {
   "cell_type": "code",
   "execution_count": null,
   "metadata": {},
   "outputs": [
    {
     "name": "stdout",
     "output_type": "stream",
     "text": [
      "Downloading data from https://storage.googleapis.com/tensorflow/tf-keras-datasets/t10k-labels-idx1-ubyte.gz\n",
      "8192/5148 [===============================================] - 0s 6us/step\n",
      "Downloading data from https://storage.googleapis.com/tensorflow/tf-keras-datasets/t10k-images-idx3-ubyte.gz\n",
      " 696320/4422102 [===>..........................] - ETA: 13s"
     ]
    }
   ],
   "source": [
    "data = tf.keras.datasets.fashion_mnist.load_data()"
   ]
  },
  {
   "cell_type": "code",
   "execution_count": 3,
   "metadata": {
    "collapsed": true
   },
   "outputs": [
    {
     "name": "stdout",
     "output_type": "stream",
     "text": [
      "WARNING:tensorflow:From <ipython-input-3-2b201998c51c>:2: read_data_sets (from tensorflow.contrib.learn.python.learn.datasets.mnist) is deprecated and will be removed in a future version.\n",
      "Instructions for updating:\n",
      "Please use alternatives such as official/mnist/dataset.py from tensorflow/models.\n",
      "WARNING:tensorflow:From D:\\ProgramData\\Anaconda3\\envs\\tensorflow\\lib\\site-packages\\tensorflow\\contrib\\learn\\python\\learn\\datasets\\mnist.py:260: maybe_download (from tensorflow.contrib.learn.python.learn.datasets.base) is deprecated and will be removed in a future version.\n",
      "Instructions for updating:\n",
      "Please write your own downloading logic.\n",
      "WARNING:tensorflow:From D:\\ProgramData\\Anaconda3\\envs\\tensorflow\\lib\\site-packages\\tensorflow\\contrib\\learn\\python\\learn\\datasets\\mnist.py:262: extract_images (from tensorflow.contrib.learn.python.learn.datasets.mnist) is deprecated and will be removed in a future version.\n",
      "Instructions for updating:\n",
      "Please use tf.data to implement this functionality.\n",
      "Extracting ./fasion_mnist\\train-images-idx3-ubyte.gz\n",
      "WARNING:tensorflow:From D:\\ProgramData\\Anaconda3\\envs\\tensorflow\\lib\\site-packages\\tensorflow\\contrib\\learn\\python\\learn\\datasets\\mnist.py:267: extract_labels (from tensorflow.contrib.learn.python.learn.datasets.mnist) is deprecated and will be removed in a future version.\n",
      "Instructions for updating:\n",
      "Please use tf.data to implement this functionality.\n",
      "Extracting ./fasion_mnist\\train-labels-idx1-ubyte.gz\n",
      "WARNING:tensorflow:From D:\\ProgramData\\Anaconda3\\envs\\tensorflow\\lib\\site-packages\\tensorflow\\contrib\\learn\\python\\learn\\datasets\\mnist.py:110: dense_to_one_hot (from tensorflow.contrib.learn.python.learn.datasets.mnist) is deprecated and will be removed in a future version.\n",
      "Instructions for updating:\n",
      "Please use tf.one_hot on tensors.\n",
      "Extracting ./fasion_mnist\\t10k-images-idx3-ubyte.gz\n",
      "Extracting ./fasion_mnist\\t10k-labels-idx1-ubyte.gz\n",
      "WARNING:tensorflow:From D:\\ProgramData\\Anaconda3\\envs\\tensorflow\\lib\\site-packages\\tensorflow\\contrib\\learn\\python\\learn\\datasets\\mnist.py:290: DataSet.__init__ (from tensorflow.contrib.learn.python.learn.datasets.mnist) is deprecated and will be removed in a future version.\n",
      "Instructions for updating:\n",
      "Please use alternatives such as official/mnist/dataset.py from tensorflow/models.\n"
     ]
    }
   ],
   "source": [
    "from tensorflow.examples.tutorials.mnist import input_data\n",
    "data = input_data.read_data_sets(\"./fasion_mnist\",one_hot=True)"
   ]
  },
  {
   "cell_type": "code",
   "execution_count": 5,
   "metadata": {
    "collapsed": true
   },
   "outputs": [
    {
     "data": {
      "text/plain": [
       "array([[  0,   0,   0,   0,   0,   0,   0,  44,  55,  96, 201,  35,   0,\n",
       "          0,   0,   0,   0,  60, 184,  53,  50,  17,   0,   0,   0,   0,\n",
       "          0,   0],\n",
       "       [  0,   0,   0,   0,   0,   0,  91, 104,  83,  44, 179, 243, 214,\n",
       "        156, 148, 212, 248, 255, 184,  40,  86, 109,  78,   0,   0,   0,\n",
       "          0,   0],\n",
       "       [  0,   0,   0,   0,   0,  75, 142,  50,  75,  60,  21,  98, 212,\n",
       "        223, 187, 232, 212,  94,   4,  57,  65,  55, 143,  71,   0,   0,\n",
       "          0,   0],\n",
       "       [  0,   0,   0,   0,   0, 107, 135,  93,  63,  63,  55,  27,  29,\n",
       "         98, 112,  58,  37,  19,  53,  58,  60,  88, 122, 112,   0,   0,\n",
       "          0,   0],\n",
       "       [  0,   0,   0,   0,   0, 155, 116, 106,  71,  62,  49,  63,  49,\n",
       "         34,  31,  35,  50,  63,  55,  58,  65, 109, 114, 150,   0,   0,\n",
       "          0,   0],\n",
       "       [  0,   0,   0,   0,   0, 147, 138,  99,  96,  63,  62,  53,  37,\n",
       "         47,  49,  27,  32,  50,  57,  65,  80, 106, 135, 152,   1,   0,\n",
       "          0,   0],\n",
       "       [  0,   0,   0,   0,  52, 148, 106, 117,  83,  78,  34,  34,  60,\n",
       "         52,  58,  70,  57,  34,  50,  67,  70, 116, 106, 147,  47,   0,\n",
       "          0,   0],\n",
       "       [  0,   0,   0,   0, 129, 124, 101, 155, 132, 102,  70,  70,  55,\n",
       "         50,  37,  37,  62,  89,  42,  85, 119, 150, 116, 122, 120,   0,\n",
       "          0,   0],\n",
       "       [  0,   0,   0,   0,  75, 129, 143, 240, 170, 114,  89,  40,  37,\n",
       "         45,  49,  50,  34,  53,  98,  88, 156, 238, 140, 130,  76,   0,\n",
       "          0,   0],\n",
       "       [  0,   0,   0,   0,   0,   0,  17, 217, 225, 104,  99,  94,  49,\n",
       "         60,  50,  67,  67,  71,  89,  65, 212, 223,  17,   0,   0,   0,\n",
       "          0,   0],\n",
       "       [  0,   0,   0,   0,   0,   0,   0,  34, 181, 106,  75, 117,  42,\n",
       "         32,  73,  47,  29,  96,  83, 102, 171,  39,   0,   0,   0,   0,\n",
       "          0,   0],\n",
       "       [  0,   0,   0,   0,   0,   1,   0,  31, 178, 120,  68, 111,  98,\n",
       "          8,  42,  75,  52,  53,  60, 117, 174,  31,   0,   3,   0,   0,\n",
       "          0,   0],\n",
       "       [  0,   0,   0,   0,   0,   1,   0,   8, 163, 122,  88,  60, 107,\n",
       "        117,  78, 122,  94,  65,  63, 120, 168,   4,   0,   1,   0,   0,\n",
       "          0,   0],\n",
       "       [  0,   0,   0,   0,   0,   1,   0,   0, 147, 114, 109, 101,  63,\n",
       "         63, 106,  49,  40, 101, 102, 101, 153,   0,   0,   1,   0,   0,\n",
       "          0,   0],\n",
       "       [  0,   0,   0,   0,   0,   0,   0,   0, 127, 109, 104, 125, 107,\n",
       "         83, 104,  91,  98, 107, 104,  99, 132,   0,   0,   0,   0,   0,\n",
       "          0,   0],\n",
       "       [  0,   0,   0,   0,   0,   0,   0,   0, 116, 117, 112, 112, 109,\n",
       "        109, 119, 102, 101, 102, 102, 106, 114,   0,   0,   0,   0,   0,\n",
       "          0,   0],\n",
       "       [  0,   0,   0,   0,   0,   0,   0,   0, 119, 112, 107, 111, 111,\n",
       "         98, 114,  94,  94, 107, 101, 104, 117,   0,   0,   0,   0,   0,\n",
       "          0,   0],\n",
       "       [  0,   0,   0,   0,   0,   0,   0,   0, 114, 111, 109, 111, 114,\n",
       "        104, 117, 104,  98, 107, 112, 101, 117,   0,   0,   1,   0,   0,\n",
       "          0,   0],\n",
       "       [  0,   0,   0,   0,   0,   1,   0,   8, 119, 111, 111, 109, 114,\n",
       "        104, 119, 107,  99, 107, 117,  96, 119,   9,   0,   0,   0,   0,\n",
       "          0,   0],\n",
       "       [  0,   0,   0,   0,   0,   1,   0,  39, 124, 102, 114, 114, 106,\n",
       "        101, 120, 107,  98, 107, 109,  94, 117,  52,   0,   0,   0,   0,\n",
       "          0,   0],\n",
       "       [  0,   0,   0,   0,   0,   1,   0,  53, 124, 101, 114, 116, 106,\n",
       "        109, 120, 112, 102,  99, 116,  98, 109,  88,   0,   0,   0,   0,\n",
       "          0,   0],\n",
       "       [  0,   0,   0,   0,   0,   0,   0,  76, 114, 104, 107, 107, 102,\n",
       "        101, 114, 112, 102,  96, 120,  94, 109,  99,   0,   0,   0,   0,\n",
       "          0,   0],\n",
       "       [  0,   0,   0,   0,   0,   0,   0,  89, 107, 102, 107, 111, 107,\n",
       "        102, 111, 109, 102,  96, 112,  99, 111, 106,   0,   0,   0,   0,\n",
       "          0,   0],\n",
       "       [  0,   0,   0,   0,   0,   0,   0,  94,  98,  94, 107, 109, 106,\n",
       "        106, 112, 107,  94, 102, 120, 109,  96, 114,   0,   0,   0,   0,\n",
       "          0,   0],\n",
       "       [  0,   0,   0,   0,   0,   0,   0,  94,  96, 101, 106, 102, 104,\n",
       "        104, 112, 112,  96,  99, 112, 116,  99, 107,   0,   0,   0,   0,\n",
       "          0,   0],\n",
       "       [  0,   0,   0,   0,   0,   0,   0, 104,  98,  98, 102,  98, 101,\n",
       "         99, 104, 109,  93,  99,  98, 107, 104, 122,   0,   0,   1,   0,\n",
       "          0,   0],\n",
       "       [  0,   0,   0,   0,   0,   0,   0,  60, 106, 117, 111, 107, 104,\n",
       "        102, 114, 119, 101, 116, 116, 135, 116,  86,   0,   0,   1,   0,\n",
       "          0,   0],\n",
       "       [  0,   0,   0,   0,   0,   0,   0,   0,   0,  35,  60,  78,  88,\n",
       "         98, 101, 104,  81,  65,  55,  35,   0,   0,   0,   0,   0,   0,\n",
       "          0,   0]], dtype=uint8)"
      ]
     },
     "execution_count": 5,
     "metadata": {},
     "output_type": "execute_result"
    }
   ],
   "source": [
    "(data.train.images[1]*255).astype(np.uint8).reshape([28,28])"
   ]
  },
  {
   "cell_type": "code",
   "execution_count": 4,
   "metadata": {},
   "outputs": [
    {
     "data": {
      "text/plain": [
       "(55000, 784)"
      ]
     },
     "execution_count": 4,
     "metadata": {},
     "output_type": "execute_result"
    }
   ],
   "source": [
    "data.train.images.shape"
   ]
  },
  {
   "cell_type": "code",
   "execution_count": 9,
   "metadata": {
    "collapsed": true
   },
   "outputs": [
    {
     "data": {
      "text/plain": [
       "<matplotlib.image.AxesImage at 0x19890b70da0>"
      ]
     },
     "execution_count": 9,
     "metadata": {},
     "output_type": "execute_result"
    },
    {
     "data": {
      "image/png": "[encoded data removed]",
      "text/plain": [
       "<Figure size 432x288 with 1 Axes>"
      ]
     },
     "metadata": {
      "needs_background": "light"
     },
     "output_type": "display_data"
    }
   ],
   "source": [
    "plt.imshow(Image.fromarray((data.train.images[0]*255).reshape([28,28])))"
   ]
  },
  {
   "cell_type": "markdown",
   "metadata": {},
   "source": [
    "==========================================================================================="
   ]
  },
  {
   "cell_type": "markdown",
   "metadata": {},
   "source": [
    "构建全连接神经网络，使用导入的数据集训练模型"
   ]
  },
  {
   "cell_type": "code",
   "execution_count": 10,
   "metadata": {},
   "outputs": [],
   "source": [
    "with tf.Graph().as_default() as g:\n",
    "    #使用占位符表达输入输出\n",
    "    inputs = tf.placeholder(shape=[None,784], dtype=tf.float32)\n",
    "    labels = tf.placeholder(shape=[None,10], dtype=tf.float32)\n",
    "    \n",
    "    #定义神经网络模型\n",
    "    out_weight = tf.Variable(tf.random_normal([784,10]))  #权重矩阵\n",
    "    out_bias = tf.Variable(tf.zeros([10,]))    #偏置值使用0来初始化\n",
    "    \n",
    "    logits = tf.matmul(inputs,out_weight)+out_bias  #全连接神经网络\n",
    "    out_put = tf.nn.softmax(logits)   #shape为【None,10】\n",
    "    \n",
    "    #交叉熵代价函数\n",
    "    loss = tf.reduce_mean(\n",
    "        -tf.reduce_sum(labels * tf.log(out_put + 1e-7),axis=1)) #批量样本的交叉熵\n",
    "    #将正确率显示出来\n",
    "    acc = tf.reduce_mean(tf.cast(\n",
    "        tf.equal(tf.argmax(out_put,axis=1),tf.argmax(labels,axis=1)),\n",
    "                tf.float32))\n",
    "    \n",
    "    #优化器\n",
    "    optim = tf.train.GradientDescentOptimizer(learning_rate=0.01)\n",
    "    train_op = optim.minimize(loss)"
   ]
  },
  {
   "cell_type": "code",
   "execution_count": 14,
   "metadata": {
    "collapsed": true
   },
   "outputs": [
    {
     "name": "stdout",
     "output_type": "stream",
     "text": [
      "loss 9.3279 ,acc 9.64%\n",
      "loss 4.4883 ,acc 9.88%\n",
      "loss 2.4969 ,acc 9.81%\n",
      "loss 3.4927 ,acc 9.73%\n",
      "loss 3.2823 ,acc 9.76%\n",
      "loss 2.5244 ,acc 9.96%\n",
      "loss 2.7453 ,acc 9.68%\n",
      "loss 2.1963 ,acc 10.01%\n",
      "loss 2.0242 ,acc 9.98%\n",
      "loss 1.0537 ,acc 9.61%\n",
      "loss 1.2500 ,acc 9.73%\n",
      "loss 1.6198 ,acc 10.09%\n",
      "loss 1.4098 ,acc 10.02%\n",
      "loss 1.8449 ,acc 10.00%\n",
      "loss 1.3482 ,acc 10.05%\n",
      "loss 1.6223 ,acc 10.28%\n",
      "loss 1.6097 ,acc 10.03%\n",
      "loss 1.3865 ,acc 10.45%\n",
      "loss 1.7095 ,acc 10.09%\n",
      "loss 1.9197 ,acc 10.26%\n"
     ]
    }
   ],
   "source": [
    "with tf.Session(graph=g) as sess:\n",
    "    sess.run(tf.global_variables_initializer())\n",
    "    \n",
    "    for i in range(10000):\n",
    "        batch_images,batch_labels = \\\n",
    "            data.train.next_batch(64)\n",
    "        res_loss,_ = sess.run(\n",
    "            [loss, train_op],\n",
    "            feed_dict={\n",
    "                inputs: batch_images,\n",
    "                labels: batch_labels\n",
    "            })\n",
    "        if i % 500 == 0:\n",
    "            accs = []\n",
    "            for j in range(10000 // 64):\n",
    "                batch_images,batch_labels = \\\n",
    "                    data.test.next_batch(64)\n",
    "                res_acc = sess.run(acc,feed_dict={inputs:batch_images,labels: batch_labels})\n",
    "                \n",
    "                accs.append(res_acc)\n",
    "            m_acc = np.mean(accs)\n",
    "            \n",
    "            print('loss %2.4f ,acc %2.2f%%' % (res_loss,m_acc * 100))\n",
    "        "
   ]
  },
  {
   "cell_type": "code",
   "execution_count": null,
   "metadata": {},
   "outputs": [],
   "source": []
  }
 ],
 "metadata": {
  "kernelspec": {
   "display_name": "Python 3",
   "language": "python",
   "name": "python3"
  },
  "language_info": {
   "codemirror_mode": {
    "name": "ipython",
    "version": 3
   },
   "file_extension": ".py",
   "mimetype": "text/x-python",
   "name": "python",
   "nbconvert_exporter": "python",
   "pygments_lexer": "ipython3",
   "version": "3.5.2"
  }
 },
 "nbformat": 4,
 "nbformat_minor": 2
}
