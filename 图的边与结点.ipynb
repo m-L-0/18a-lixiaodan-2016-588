{
 "cells": [
  {
   "cell_type": "code",
   "execution_count": null,
   "metadata": {},
   "outputs": [],
   "source": [
    "#索引取出第2张图片\n",
    "img[1][0:28][0:28][0:3]\n",
    "#利用切片取出第2张照片\n",
    "tf.slice(img,[1,0,0,0],[1,28,28,3])\n",
    "#使用切片与使用索引取出的一张照片有何不同？\n",
    "索引生成新的图片\n",
    "切片从原张量中取出\n",
    "#如何取出其中的第1/3/5/7张图片\n",
    "tf.slice(img,[0,0,0,0],[1,28,28,3])\n",
    "tf.slice(img,[2,0,0,0],[1,28,28,3])\n",
    "tf.slice(img,[4,0,0,0],[1,28,28,3])\n",
    "tf.slice(img,[6,0,0,0],[1,28,28,3])\n",
    "#如何取出第6-8张（包括6不包括8）图片中心区域（14*14）的部分\n",
    "tf.slice(img,[5,7,7,0],[2,21,21,3])\n",
    "#如何将图片根据通道拆分成三份单通道图片？\n",
    "img0=tf.slice(img,[0,0,0,0],[1,28,28,3])\n",
    "tf.split(img0,[1,1,1],3)\n",
    "#写出tf.shape(img)返回的张量的阶数以及shape属性的值。\n",
    "1 (4,)\n"
   ]
  }
 ],
 "metadata": {
  "kernelspec": {
   "display_name": "Python 3",
   "language": "python",
   "name": "python3"
  },
  "language_info": {
   "codemirror_mode": {
    "name": "ipython",
    "version": 3
   },
   "file_extension": ".py",
   "mimetype": "text/x-python",
   "name": "python",
   "nbconvert_exporter": "python",
   "pygments_lexer": "ipython3",
   "version": "3.5.2"
  }
 },
 "nbformat": 4,
 "nbformat_minor": 2
}
